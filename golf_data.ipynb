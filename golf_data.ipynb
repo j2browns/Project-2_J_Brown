{
 "cells": [
  {
   "cell_type": "markdown",
   "metadata": {},
   "source": [
    "# US Golf Course Information Kiosk\n",
    "\n",
    "Detailed information on golf courses with green fees range and tees, this complete golf courses database has 15,606 records across 7,891 cities over 53 states in the United States. Each record is comprised of address, street, phone number, zip code, hole, architect, year built, public/private, guest policy, credit card, golf season, range, rental club, pro in house, metal spikes okay, weekday, weekend, tee time welcomed, rental cart available, championship par/yards/slope/USGA, middle par/yards/slope/USGA and forward par/yards/slope/USGA\n",
    "\n",
    "https://www.usabledatabases.com/database/golf-courses-in-us/"
   ]
  },
  {
   "cell_type": "markdown",
   "metadata": {},
   "source": [
    "## Basis analysis of the input datasets"
   ]
  },
  {
   "cell_type": "code",
   "execution_count": 1,
   "metadata": {},
   "outputs": [
    {
     "data": {
      "text/plain": [
       "(15606, 34)"
      ]
     },
     "execution_count": 1,
     "metadata": {},
     "output_type": "execute_result"
    }
   ],
   "source": [
    "# Dependencies and Setup\n",
    "import pandas as pd\n",
    "import matplotlib.pyplot as plt\n",
    "import numpy as np\n",
    "import scipy.stats as sts\n",
    "\n",
    "# Read the golf course dataset\n",
    "input_csv = pd.read_csv(\"data/course.csv\", delimiter=',', skipinitialspace=True)\n",
    "input_csv.shape"
   ]
  },
  {
   "cell_type": "code",
   "execution_count": 2,
   "metadata": {},
   "outputs": [
    {
     "data": {
      "text/html": [
       "<div>\n",
       "<style scoped>\n",
       "    .dataframe tbody tr th:only-of-type {\n",
       "        vertical-align: middle;\n",
       "    }\n",
       "\n",
       "    .dataframe tbody tr th {\n",
       "        vertical-align: top;\n",
       "    }\n",
       "\n",
       "    .dataframe thead th {\n",
       "        text-align: right;\n",
       "    }\n",
       "</style>\n",
       "<table border=\"1\" class=\"dataframe\">\n",
       "  <thead>\n",
       "    <tr style=\"text-align: right;\">\n",
       "      <th></th>\n",
       "      <th>id</th>\n",
       "      <th>city_id</th>\n",
       "      <th>title</th>\n",
       "      <th>street</th>\n",
       "      <th>address</th>\n",
       "      <th>zip_code</th>\n",
       "      <th>phone</th>\n",
       "      <th>hole</th>\n",
       "      <th>architect</th>\n",
       "      <th>year_built</th>\n",
       "      <th>...</th>\n",
       "      <th>championship_slope</th>\n",
       "      <th>championship_usga</th>\n",
       "      <th>middle_par</th>\n",
       "      <th>middle_yards</th>\n",
       "      <th>middle_slope</th>\n",
       "      <th>middle_usga</th>\n",
       "      <th>forward_par</th>\n",
       "      <th>forward_yards</th>\n",
       "      <th>forward_slope</th>\n",
       "      <th>forward_usga</th>\n",
       "    </tr>\n",
       "  </thead>\n",
       "  <tbody>\n",
       "    <tr>\n",
       "      <th>0</th>\n",
       "      <td>1</td>\n",
       "      <td>1</td>\n",
       "      <td>Albertville Golf &amp; Country Club</td>\n",
       "      <td>Country Club Rd</td>\n",
       "      <td>Albertville, Alabama 35950</td>\n",
       "      <td>35950.0</td>\n",
       "      <td>(256) 878-4403</td>\n",
       "      <td>18.0</td>\n",
       "      <td>Leon Howard</td>\n",
       "      <td>1966</td>\n",
       "      <td>...</td>\n",
       "      <td>118</td>\n",
       "      <td>68.80</td>\n",
       "      <td>72</td>\n",
       "      <td>6068</td>\n",
       "      <td>117</td>\n",
       "      <td>68.00</td>\n",
       "      <td>72</td>\n",
       "      <td>5196</td>\n",
       "      <td>NaN</td>\n",
       "      <td>NaN</td>\n",
       "    </tr>\n",
       "    <tr>\n",
       "      <th>1</th>\n",
       "      <td>2</td>\n",
       "      <td>1</td>\n",
       "      <td>A. J. Jolly Golf Course</td>\n",
       "      <td>5350 S US Hwy 27</td>\n",
       "      <td>Alexandria, Kentucky 41001</td>\n",
       "      <td>41001.0</td>\n",
       "      <td>(606) 635-2106</td>\n",
       "      <td>18.0</td>\n",
       "      <td>NaN</td>\n",
       "      <td>1962</td>\n",
       "      <td>...</td>\n",
       "      <td>118</td>\n",
       "      <td>69.30</td>\n",
       "      <td>71</td>\n",
       "      <td>5942</td>\n",
       "      <td>115</td>\n",
       "      <td>67.60</td>\n",
       "      <td>75</td>\n",
       "      <td>5418</td>\n",
       "      <td>118</td>\n",
       "      <td>70.30</td>\n",
       "    </tr>\n",
       "    <tr>\n",
       "      <th>2</th>\n",
       "      <td>3</td>\n",
       "      <td>2</td>\n",
       "      <td>Willow Point Country Club</td>\n",
       "      <td>3054 Willow Point Rd</td>\n",
       "      <td>Alexander City, Alabama 35010</td>\n",
       "      <td>35010.0</td>\n",
       "      <td>(256) 234-2572</td>\n",
       "      <td>18.0</td>\n",
       "      <td>Thomas H. Nicol</td>\n",
       "      <td>1961</td>\n",
       "      <td>...</td>\n",
       "      <td>137</td>\n",
       "      <td>74.60</td>\n",
       "      <td>72</td>\n",
       "      <td>6631</td>\n",
       "      <td>135</td>\n",
       "      <td>72.20</td>\n",
       "      <td>73</td>\n",
       "      <td>5373</td>\n",
       "      <td>120</td>\n",
       "      <td>70.70</td>\n",
       "    </tr>\n",
       "    <tr>\n",
       "      <th>3</th>\n",
       "      <td>4</td>\n",
       "      <td>3</td>\n",
       "      <td>Alpine Bay Resort</td>\n",
       "      <td>9855 Renfroe Rd</td>\n",
       "      <td>Alpine, Alabama 35014</td>\n",
       "      <td>35014.0</td>\n",
       "      <td>(256) 268-2920</td>\n",
       "      <td>18.0</td>\n",
       "      <td>Robert Trent Jones, Sr.</td>\n",
       "      <td>1972</td>\n",
       "      <td>...</td>\n",
       "      <td>129</td>\n",
       "      <td>70.90</td>\n",
       "      <td>72</td>\n",
       "      <td>6518</td>\n",
       "      <td>126</td>\n",
       "      <td>69.90</td>\n",
       "      <td>72</td>\n",
       "      <td>5518</td>\n",
       "      <td>120</td>\n",
       "      <td>69.80</td>\n",
       "    </tr>\n",
       "    <tr>\n",
       "      <th>4</th>\n",
       "      <td>5</td>\n",
       "      <td>4</td>\n",
       "      <td>Maple Hills Golf</td>\n",
       "      <td>Hwy 75</td>\n",
       "      <td>Altoona, Alabama 35952</td>\n",
       "      <td>35952.0</td>\n",
       "      <td>(205) 466-7600</td>\n",
       "      <td>9.0</td>\n",
       "      <td>Bill Ellison</td>\n",
       "      <td>1975</td>\n",
       "      <td>...</td>\n",
       "      <td>NaN</td>\n",
       "      <td>NaN</td>\n",
       "      <td>31</td>\n",
       "      <td>1800</td>\n",
       "      <td>NaN</td>\n",
       "      <td>NaN</td>\n",
       "      <td>31</td>\n",
       "      <td>1800</td>\n",
       "      <td>NaN</td>\n",
       "      <td>NaN</td>\n",
       "    </tr>\n",
       "    <tr>\n",
       "      <th>...</th>\n",
       "      <td>...</td>\n",
       "      <td>...</td>\n",
       "      <td>...</td>\n",
       "      <td>...</td>\n",
       "      <td>...</td>\n",
       "      <td>...</td>\n",
       "      <td>...</td>\n",
       "      <td>...</td>\n",
       "      <td>...</td>\n",
       "      <td>...</td>\n",
       "      <td>...</td>\n",
       "      <td>...</td>\n",
       "      <td>...</td>\n",
       "      <td>...</td>\n",
       "      <td>...</td>\n",
       "      <td>...</td>\n",
       "      <td>...</td>\n",
       "      <td>...</td>\n",
       "      <td>...</td>\n",
       "      <td>...</td>\n",
       "      <td>...</td>\n",
       "    </tr>\n",
       "    <tr>\n",
       "      <th>15601</th>\n",
       "      <td>15750</td>\n",
       "      <td>8219</td>\n",
       "      <td>Legion Town &amp; Country Club</td>\n",
       "      <td>141 Airport Rd</td>\n",
       "      <td>Thermopolis, Wyoming 82443</td>\n",
       "      <td>82443.0</td>\n",
       "      <td>(307) 864-5294</td>\n",
       "      <td>9.0</td>\n",
       "      <td>Don Brunk</td>\n",
       "      <td>1962</td>\n",
       "      <td>...</td>\n",
       "      <td>NaN</td>\n",
       "      <td>NaN</td>\n",
       "      <td>35</td>\n",
       "      <td>2966</td>\n",
       "      <td>111</td>\n",
       "      <td>33.90</td>\n",
       "      <td>37</td>\n",
       "      <td>2836</td>\n",
       "      <td>111</td>\n",
       "      <td>35.00</td>\n",
       "    </tr>\n",
       "    <tr>\n",
       "      <th>15602</th>\n",
       "      <td>15751</td>\n",
       "      <td>8220</td>\n",
       "      <td>Cottonwood Country Club</td>\n",
       "      <td>15th St</td>\n",
       "      <td>Torrington, Wyoming 82240</td>\n",
       "      <td>82240.0</td>\n",
       "      <td>(307) 532-3868</td>\n",
       "      <td>18.0</td>\n",
       "      <td>NaN</td>\n",
       "      <td>NaN</td>\n",
       "      <td>...</td>\n",
       "      <td>NaN</td>\n",
       "      <td>NaN</td>\n",
       "      <td>72</td>\n",
       "      <td>6298</td>\n",
       "      <td>112</td>\n",
       "      <td>67.70</td>\n",
       "      <td>73</td>\n",
       "      <td>5344</td>\n",
       "      <td>112</td>\n",
       "      <td>69.20</td>\n",
       "    </tr>\n",
       "    <tr>\n",
       "      <th>15603</th>\n",
       "      <td>15752</td>\n",
       "      <td>8221</td>\n",
       "      <td>Cedar Pines Golf Course</td>\n",
       "      <td>2579 N Hwy 116</td>\n",
       "      <td>Upton, Wyoming 82730</td>\n",
       "      <td>82730.0</td>\n",
       "      <td>(307) 468-2847</td>\n",
       "      <td>9.0</td>\n",
       "      <td>NaN</td>\n",
       "      <td>1984</td>\n",
       "      <td>...</td>\n",
       "      <td>NaN</td>\n",
       "      <td>NaN</td>\n",
       "      <td>36</td>\n",
       "      <td>3198</td>\n",
       "      <td>NaN</td>\n",
       "      <td>NaN</td>\n",
       "      <td>38</td>\n",
       "      <td>2521</td>\n",
       "      <td>NaN</td>\n",
       "      <td>NaN</td>\n",
       "    </tr>\n",
       "    <tr>\n",
       "      <th>15604</th>\n",
       "      <td>15753</td>\n",
       "      <td>8222</td>\n",
       "      <td>Wheatland Golf Club</td>\n",
       "      <td>1253 E Cole</td>\n",
       "      <td>Wheatland, Wyoming 82201</td>\n",
       "      <td>82201.0</td>\n",
       "      <td>(307) 322-3675</td>\n",
       "      <td>9.0</td>\n",
       "      <td>NaN</td>\n",
       "      <td>1960</td>\n",
       "      <td>...</td>\n",
       "      <td>NaN</td>\n",
       "      <td>NaN</td>\n",
       "      <td>36</td>\n",
       "      <td>3064</td>\n",
       "      <td>119</td>\n",
       "      <td>33.95</td>\n",
       "      <td>36</td>\n",
       "      <td>2557</td>\n",
       "      <td>116</td>\n",
       "      <td>34.25</td>\n",
       "    </tr>\n",
       "    <tr>\n",
       "      <th>15605</th>\n",
       "      <td>15754</td>\n",
       "      <td>8223</td>\n",
       "      <td>Green Hills Municipal Golf Course</td>\n",
       "      <td>1455 Airport Rd</td>\n",
       "      <td>Worland, Wyoming 82401</td>\n",
       "      <td>82401.0</td>\n",
       "      <td>(307) 347-8972</td>\n",
       "      <td>18.0</td>\n",
       "      <td>Local Designers</td>\n",
       "      <td>1961</td>\n",
       "      <td>...</td>\n",
       "      <td>113</td>\n",
       "      <td>69.30</td>\n",
       "      <td>72</td>\n",
       "      <td>6052</td>\n",
       "      <td>113</td>\n",
       "      <td>67.50</td>\n",
       "      <td>73</td>\n",
       "      <td>5104</td>\n",
       "      <td>95</td>\n",
       "      <td>65.50</td>\n",
       "    </tr>\n",
       "  </tbody>\n",
       "</table>\n",
       "<p>15606 rows × 34 columns</p>\n",
       "</div>"
      ],
      "text/plain": [
       "          id  city_id                              title  \\\n",
       "0          1        1    Albertville Golf & Country Club   \n",
       "1          2        1            A. J. Jolly Golf Course   \n",
       "2          3        2          Willow Point Country Club   \n",
       "3          4        3                  Alpine Bay Resort   \n",
       "4          5        4                   Maple Hills Golf   \n",
       "...      ...      ...                                ...   \n",
       "15601  15750     8219         Legion Town & Country Club   \n",
       "15602  15751     8220            Cottonwood Country Club   \n",
       "15603  15752     8221            Cedar Pines Golf Course   \n",
       "15604  15753     8222                Wheatland Golf Club   \n",
       "15605  15754     8223  Green Hills Municipal Golf Course   \n",
       "\n",
       "                     street                        address  zip_code  \\\n",
       "0           Country Club Rd     Albertville, Alabama 35950   35950.0   \n",
       "1          5350 S US Hwy 27     Alexandria, Kentucky 41001   41001.0   \n",
       "2      3054 Willow Point Rd  Alexander City, Alabama 35010   35010.0   \n",
       "3           9855 Renfroe Rd          Alpine, Alabama 35014   35014.0   \n",
       "4                    Hwy 75         Altoona, Alabama 35952   35952.0   \n",
       "...                     ...                            ...       ...   \n",
       "15601        141 Airport Rd     Thermopolis, Wyoming 82443   82443.0   \n",
       "15602               15th St      Torrington, Wyoming 82240   82240.0   \n",
       "15603        2579 N Hwy 116           Upton, Wyoming 82730   82730.0   \n",
       "15604           1253 E Cole       Wheatland, Wyoming 82201   82201.0   \n",
       "15605       1455 Airport Rd         Worland, Wyoming 82401   82401.0   \n",
       "\n",
       "                phone  hole                architect year_built  ...  \\\n",
       "0      (256) 878-4403  18.0              Leon Howard       1966  ...   \n",
       "1      (606) 635-2106  18.0                      NaN       1962  ...   \n",
       "2      (256) 234-2572  18.0          Thomas H. Nicol       1961  ...   \n",
       "3      (256) 268-2920  18.0  Robert Trent Jones, Sr.       1972  ...   \n",
       "4      (205) 466-7600   9.0             Bill Ellison       1975  ...   \n",
       "...               ...   ...                      ...        ...  ...   \n",
       "15601  (307) 864-5294   9.0                Don Brunk       1962  ...   \n",
       "15602  (307) 532-3868  18.0                      NaN        NaN  ...   \n",
       "15603  (307) 468-2847   9.0                      NaN       1984  ...   \n",
       "15604  (307) 322-3675   9.0                      NaN       1960  ...   \n",
       "15605  (307) 347-8972  18.0          Local Designers       1961  ...   \n",
       "\n",
       "      championship_slope championship_usga middle_par middle_yards  \\\n",
       "0                    118             68.80         72         6068   \n",
       "1                    118             69.30         71         5942   \n",
       "2                    137             74.60         72         6631   \n",
       "3                    129             70.90         72         6518   \n",
       "4                    NaN               NaN         31         1800   \n",
       "...                  ...               ...        ...          ...   \n",
       "15601                NaN               NaN         35         2966   \n",
       "15602                NaN               NaN         72         6298   \n",
       "15603                NaN               NaN         36         3198   \n",
       "15604                NaN               NaN         36         3064   \n",
       "15605                113             69.30         72         6052   \n",
       "\n",
       "      middle_slope middle_usga forward_par forward_yards forward_slope  \\\n",
       "0              117       68.00          72          5196           NaN   \n",
       "1              115       67.60          75          5418           118   \n",
       "2              135       72.20          73          5373           120   \n",
       "3              126       69.90          72          5518           120   \n",
       "4              NaN         NaN          31          1800           NaN   \n",
       "...            ...         ...         ...           ...           ...   \n",
       "15601          111       33.90          37          2836           111   \n",
       "15602          112       67.70          73          5344           112   \n",
       "15603          NaN         NaN          38          2521           NaN   \n",
       "15604          119       33.95          36          2557           116   \n",
       "15605          113       67.50          73          5104            95   \n",
       "\n",
       "      forward_usga  \n",
       "0              NaN  \n",
       "1            70.30  \n",
       "2            70.70  \n",
       "3            69.80  \n",
       "4              NaN  \n",
       "...            ...  \n",
       "15601        35.00  \n",
       "15602        69.20  \n",
       "15603          NaN  \n",
       "15604        34.25  \n",
       "15605        65.50  \n",
       "\n",
       "[15606 rows x 34 columns]"
      ]
     },
     "execution_count": 2,
     "metadata": {},
     "output_type": "execute_result"
    }
   ],
   "source": [
    "# Display the input data for preview\n",
    "input_csv"
   ]
  },
  {
   "cell_type": "code",
   "execution_count": 3,
   "metadata": {},
   "outputs": [
    {
     "data": {
      "text/plain": [
       "14058"
      ]
     },
     "execution_count": 3,
     "metadata": {},
     "output_type": "execute_result"
    }
   ],
   "source": [
    "# Check the number of unique records using groupby\n",
    "csv_group = input_csv.groupby(\"title\")\n",
    "len(csv_group)"
   ]
  },
  {
   "cell_type": "code",
   "execution_count": 4,
   "metadata": {},
   "outputs": [
    {
     "data": {
      "text/plain": [
       "15603"
      ]
     },
     "execution_count": 4,
     "metadata": {},
     "output_type": "execute_result"
    }
   ],
   "source": [
    "# Check the number of unique records using groupby\n",
    "csv_group = input_csv.groupby([\"title\",\"street\"])\n",
    "len(csv_group)"
   ]
  },
  {
   "cell_type": "code",
   "execution_count": 5,
   "metadata": {},
   "outputs": [
    {
     "data": {
      "text/plain": [
       "15606"
      ]
     },
     "execution_count": 5,
     "metadata": {},
     "output_type": "execute_result"
    }
   ],
   "source": [
    "# Check the number of unique records using groupby\n",
    "csv_group = input_csv.groupby([\"title\",\"street\",\"zip_code\",\"phone\",\"hole\",\"architect\"])\n",
    "len(csv_group)"
   ]
  },
  {
   "cell_type": "markdown",
   "metadata": {},
   "source": [
    "## City ID"
   ]
  },
  {
   "cell_type": "code",
   "execution_count": 6,
   "metadata": {},
   "outputs": [
    {
     "data": {
      "text/plain": [
       "1170    67\n",
       "208     47\n",
       "7146    43\n",
       "6699    40\n",
       "610     38\n",
       "        ..\n",
       "7743     1\n",
       "7751     1\n",
       "3661     1\n",
       "5710     1\n",
       "2049     1\n",
       "Name: city_id, Length: 7891, dtype: int64"
      ]
     },
     "execution_count": 6,
     "metadata": {},
     "output_type": "execute_result"
    }
   ],
   "source": [
    "# Overview of city_id\n",
    "input_csv[\"city_id\"].value_counts()"
   ]
  },
  {
   "cell_type": "markdown",
   "metadata": {},
   "source": [
    "## Address"
   ]
  },
  {
   "cell_type": "code",
   "execution_count": 7,
   "metadata": {},
   "outputs": [
    {
     "data": {
      "text/plain": [
       "Palm Desert, California 92211             19\n",
       "Pinehurst, North Carolina 28374           19\n",
       "Palm Desert, California 92260             18\n",
       "Myrtle Beach, South Carolina 29579        16\n",
       "La Quinta, California 92253               16\n",
       "                                          ..\n",
       "Friendship, Ohio 45630                     1\n",
       "Columbus, Mississippi 39710                1\n",
       "Colebrook, New Hampshire 03576             1\n",
       "Milford, Connecticut 06460                 1\n",
       "North Charleston, South Carolina 29420     1\n",
       "Name: address, Length: 9821, dtype: int64"
      ]
     },
     "execution_count": 7,
     "metadata": {},
     "output_type": "execute_result"
    }
   ],
   "source": [
    "# Overview of address\n",
    "input_csv[\"address\"].value_counts()"
   ]
  },
  {
   "cell_type": "markdown",
   "metadata": {},
   "source": [
    "## Zip Code"
   ]
  },
  {
   "cell_type": "code",
   "execution_count": 8,
   "metadata": {},
   "outputs": [
    {
     "data": {
      "text/plain": [
       "28374.0    19\n",
       "92260.0    19\n",
       "29910.0    19\n",
       "92211.0    19\n",
       "92253.0    16\n",
       "           ..\n",
       "95521.0     1\n",
       "32579.0     1\n",
       "98665.0     1\n",
       "77541.0     1\n",
       "8.0         1\n",
       "Name: zip_code, Length: 9430, dtype: int64"
      ]
     },
     "execution_count": 8,
     "metadata": {},
     "output_type": "execute_result"
    }
   ],
   "source": [
    "# Overview of zip code\n",
    "input_csv[\"zip_code\"].value_counts()"
   ]
  },
  {
   "cell_type": "markdown",
   "metadata": {},
   "source": [
    "## Hole"
   ]
  },
  {
   "cell_type": "code",
   "execution_count": 9,
   "metadata": {},
   "outputs": [
    {
     "data": {
      "text/plain": [
       "18.0    10841\n",
       "9.0      4490\n",
       "27.0        9\n",
       "10.0        8\n",
       "11.0        5\n",
       "3.0         5\n",
       "36.0        5\n",
       "12.0        4\n",
       "6.0         4\n",
       "19.0        3\n",
       "5.0         3\n",
       "14.0        3\n",
       "4.0         3\n",
       "7.0         2\n",
       "17.0        1\n",
       "8.0         1\n",
       "30.0        1\n",
       "15.0        1\n",
       "Name: hole, dtype: int64"
      ]
     },
     "execution_count": 9,
     "metadata": {},
     "output_type": "execute_result"
    }
   ],
   "source": [
    "# Overview of hole\n",
    "input_csv[\"hole\"].value_counts()"
   ]
  },
  {
   "cell_type": "markdown",
   "metadata": {},
   "source": [
    "## Architect"
   ]
  },
  {
   "cell_type": "code",
   "execution_count": 10,
   "metadata": {
    "scrolled": true
   },
   "outputs": [
    {
     "data": {
      "text/plain": [
       "Donald Ross                297\n",
       "Robert Trent Jones, Sr.    180\n",
       "Arthur Hills               139\n",
       "Ted Robinson               125\n",
       "Tom Bendelow               108\n",
       "                          ... \n",
       "Gene Clark                   1\n",
       "Scott Boersma                1\n",
       "Steve Dorkee                 1\n",
       "Jerry Schwendinger           1\n",
       "Jerry Von See                1\n",
       "Name: architect, Length: 3253, dtype: int64"
      ]
     },
     "execution_count": 10,
     "metadata": {},
     "output_type": "execute_result"
    }
   ],
   "source": [
    "# Overview of architect\n",
    "input_csv[\"architect\"].value_counts()"
   ]
  },
  {
   "cell_type": "markdown",
   "metadata": {},
   "source": [
    "## Year Built"
   ]
  },
  {
   "cell_type": "code",
   "execution_count": 11,
   "metadata": {},
   "outputs": [
    {
     "data": {
      "text/plain": [
       "1970    392\n",
       "1960    388\n",
       "1964    373\n",
       "1965    356\n",
       "1995    349\n",
       "       ... \n",
       "2005      1\n",
       "fron      1\n",
       "Rebu      1\n",
       "1885      1\n",
       "2006      1\n",
       "Name: year_built, Length: 130, dtype: int64"
      ]
     },
     "execution_count": 11,
     "metadata": {},
     "output_type": "execute_result"
    }
   ],
   "source": [
    "# Overview of year_built\n",
    "input_csv[\"year_built\"].value_counts()"
   ]
  },
  {
   "cell_type": "markdown",
   "metadata": {},
   "source": [
    "## Public or Private"
   ]
  },
  {
   "cell_type": "code",
   "execution_count": 12,
   "metadata": {},
   "outputs": [
    {
     "data": {
      "text/plain": [
       "Public                                                          7205\n",
       "Private                                                         3907\n",
       "Semi-Private                                                    3176\n",
       "Resort                                                           863\n",
       "Military                                                         183\n",
       "Semi Private                                                      40\n",
       "Courses                                                            2\n",
       "Private--only accepting public play during the summer season       1\n",
       "Semi-private                                                       1\n",
       "&nbsp;                                                             1\n",
       "Name: public_private, dtype: int64"
      ]
     },
     "execution_count": 12,
     "metadata": {},
     "output_type": "execute_result"
    }
   ],
   "source": [
    "# Overview of public_private\n",
    "input_csv[\"public_private\"].value_counts()"
   ]
  },
  {
   "cell_type": "markdown",
   "metadata": {},
   "source": [
    "## Guest Policy"
   ]
  },
  {
   "cell_type": "code",
   "execution_count": 13,
   "metadata": {},
   "outputs": [
    {
     "data": {
      "text/plain": [
       "Open                                                  11033\n",
       "Closed                                                 2174\n",
       "Reciprocal                                             2024\n",
       "open                                                      4\n",
       "Welcome                                                   3\n",
       "                                                      ...  \n",
       "Guest with member, green fee, reciprocal with othe        1\n",
       "All Welcome                                               1\n",
       "public welcome                                            1\n",
       "Members Only                                              1\n",
       "Available                                                 1\n",
       "Name: guest_policy, Length: 78, dtype: int64"
      ]
     },
     "execution_count": 13,
     "metadata": {},
     "output_type": "execute_result"
    }
   ],
   "source": [
    "# Overview of guest_policy\n",
    "input_csv[\"guest_policy\"].value_counts()"
   ]
  },
  {
   "cell_type": "markdown",
   "metadata": {},
   "source": [
    "## Credit Card"
   ]
  },
  {
   "cell_type": "code",
   "execution_count": 14,
   "metadata": {},
   "outputs": [
    {
     "data": {
      "text/plain": [
       "None                                                                           6251\n",
       "VISA, MasterCard Welcomed                                                      4517\n",
       "VISA, MasterCard, Amex, Discover Welcomed                                      1808\n",
       "VISA, MasterCard, Amex Welcomed                                                1558\n",
       "VISA, MasterCard, Discover Welcomed                                             897\n",
       "Amex MasterCard Visa Discover card(s) Welcomed                                   38\n",
       "VISA, MasterCard, Amex, Discover Accepted                                        36\n",
       "VISA, MasterCard Accepted                                                        34\n",
       "MasterCard Visa card(s) Welcomed                                                 33\n",
       "Amex MasterCard Visa Discover  card(s) Welcomed                                  28\n",
       "VISA, MasterCard, Amex Accepted                                                  21\n",
       "MasterCard Visa  card(s) Welcomed                                                20\n",
       "Discover Welcomed                                                                18\n",
       "Amex MasterCard Visa card(s) Welcomed                                            17\n",
       "VISA Welcomed                                                                    16\n",
       "Amex MasterCard Visa  card(s) Welcomed                                           15\n",
       "Yes                                                                              12\n",
       "MasterCard Visa Discover card(s) Welcomed                                        11\n",
       "VISA, MasterCard, Discover Accepted                                               8\n",
       "MasterCard Visa Discover  card(s) Welcomed                                        7\n",
       "Amex Welcomed                                                                     7\n",
       "VISA, Discover Welcomed                                                           4\n",
       "Mastercard, Visa                                                                  1\n",
       "Amex,VISA, MasterCard, Discover Welcomed                                          1\n",
       "MasterCard Welcomed                                                               1\n",
       "VISA, MasterCard, AMEX Welcomed                                                   1\n",
       "All Major Credit Cards Accepted                                                   1\n",
       "Visa, MC, Discover, AmEx                                                          1\n",
       "Visa, Mastercard                                                                  1\n",
       "Amex, Discover Welcomed                                                           1\n",
       "Welcomed                                                                          1\n",
       "VISA, MasterCard                                                                  1\n",
       "Visa, Discover or Mastercard accepted                                             1\n",
       "Not Welcomed                                                                      1\n",
       "VISA, MasterCard, AMEX\\r\\n                                         Welcomed       1\n",
       "Year round                                                                        1\n",
       "Amex, Mastercard, Visa, Discover                                                  1\n",
       "VISA, MasterCard, Discover Welcomed, AMEX                                         1\n",
       "VISA, Master Card &amp; Discover                                                  1\n",
       "MasterCard, Amex Welcomed                                                         1\n",
       "AMEX, VISA, MasterCard Welcomed                                                   1\n",
       "VISA, MasterCard and Discover Accepted                                            1\n",
       "VISA, MasterCard only                                                             1\n",
       "No                                                                                1\n",
       "V/MC                                                                              1\n",
       "VISA, Amex Welcomed                                                               1\n",
       "Visa / Mastercard / Discover                                                      1\n",
       "Visa, Mastercard, Amex (not Discover)                                             1\n",
       "Visa and Master                                                                   1\n",
       "Name: credit_card, dtype: int64"
      ]
     },
     "execution_count": 14,
     "metadata": {},
     "output_type": "execute_result"
    }
   ],
   "source": [
    "# Overview of credit_card\n",
    "input_csv[\"credit_card\"].value_counts()"
   ]
  },
  {
   "cell_type": "markdown",
   "metadata": {},
   "source": [
    "## Golf Season"
   ]
  },
  {
   "cell_type": "code",
   "execution_count": 15,
   "metadata": {},
   "outputs": [
    {
     "data": {
      "text/plain": [
       "year round                  9328\n",
       "Open: 4/01 Closed: 11/01    1687\n",
       "Open: 4/01 Closed: 10/31     579\n",
       "Open: 3/01 Closed: 11/01     259\n",
       "Open: 4/01 Closed: 11/30     253\n",
       "                            ... \n",
       "Open: 2/01 Closed: 12/24       1\n",
       "Open: 6/15 Closed: 9/15        1\n",
       "weather permitting             1\n",
       "Open: 4/15 Closed: 12/10       1\n",
       "1 Apr - 31 Oct                 1\n",
       "Name: golf_season, Length: 415, dtype: int64"
      ]
     },
     "execution_count": 15,
     "metadata": {},
     "output_type": "execute_result"
    }
   ],
   "source": [
    "# Overview of golf_season\n",
    "input_csv[\"golf_season\"].value_counts()"
   ]
  },
  {
   "cell_type": "markdown",
   "metadata": {},
   "source": [
    "## Range"
   ]
  },
  {
   "cell_type": "code",
   "execution_count": 16,
   "metadata": {},
   "outputs": [
    {
     "data": {
      "text/plain": [
       "Yes                                 11095\n",
       "No                                   4281\n",
       "Yes - 15 tees                           1\n",
       "Yes - 45 tees, putting green            1\n",
       "Yes - $5 per 1/2hrs                     1\n",
       "Yes, range balls included in fee        1\n",
       "Yes - 20 tees                           1\n",
       "Yes - 150 tees                          1\n",
       "Name: range, dtype: int64"
      ]
     },
     "execution_count": 16,
     "metadata": {},
     "output_type": "execute_result"
    }
   ],
   "source": [
    "# Overview of range\n",
    "input_csv[\"range\"].value_counts()"
   ]
  },
  {
   "cell_type": "markdown",
   "metadata": {},
   "source": [
    "## Rental Clubs"
   ]
  },
  {
   "cell_type": "code",
   "execution_count": 17,
   "metadata": {},
   "outputs": [
    {
     "data": {
      "text/plain": [
       "Yes                    12515\n",
       "No                      2854\n",
       "Yes - $50                  2\n",
       "Pro Line Sets - $30        1\n",
       "Yes - $30                  1\n",
       "Name: rental_club, dtype: int64"
      ]
     },
     "execution_count": 17,
     "metadata": {},
     "output_type": "execute_result"
    }
   ],
   "source": [
    "# Overview of rental_club\n",
    "input_csv[\"rental_club\"].value_counts()"
   ]
  },
  {
   "cell_type": "markdown",
   "metadata": {},
   "source": [
    "## Pro in House"
   ]
  },
  {
   "cell_type": "code",
   "execution_count": 18,
   "metadata": {},
   "outputs": [
    {
     "data": {
      "text/plain": [
       "Yes    11325\n",
       "No      4051\n",
       "Name: pro_in_House, dtype: int64"
      ]
     },
     "execution_count": 18,
     "metadata": {},
     "output_type": "execute_result"
    }
   ],
   "source": [
    "# Overview of pro_in_House\n",
    "input_csv[\"pro_in_House\"].value_counts()"
   ]
  },
  {
   "cell_type": "markdown",
   "metadata": {},
   "source": [
    "## Metal Spikes okay"
   ]
  },
  {
   "cell_type": "code",
   "execution_count": 19,
   "metadata": {},
   "outputs": [
    {
     "data": {
      "text/plain": [
       "No                                        10165\n",
       "Yes                                        5200\n",
       "Golf shoes must have non-metal spikes         2\n",
       "Soft Spikes only.                             1\n",
       "Not welcome                                   1\n",
       "The use of metal spikes is prohibited.        1\n",
       "No/Soft spike only facility                   1\n",
       "Not Allowed                                   1\n",
       "Name: metal_spikes_okay, dtype: int64"
      ]
     },
     "execution_count": 19,
     "metadata": {},
     "output_type": "execute_result"
    }
   ],
   "source": [
    "# Overview of metal_spikes_okay\n",
    "input_csv[\"metal_spikes_okay\"].value_counts()"
   ]
  },
  {
   "cell_type": "markdown",
   "metadata": {},
   "source": [
    "## Weekday"
   ]
  },
  {
   "cell_type": "code",
   "execution_count": 20,
   "metadata": {},
   "outputs": [
    {
     "data": {
      "text/plain": [
       "$             13008\n",
       "$$             1750\n",
       "$$$             469\n",
       "$$$$              4\n",
       "$60 - $135        2\n",
       "$40               2\n",
       "$59               2\n",
       "$40-$50           1\n",
       "$70               1\n",
       "20$               1\n",
       "$27               1\n",
       "$20-$30           1\n",
       "$65 - $75         1\n",
       "$200              1\n",
       "$95               1\n",
       "$35 - $60         1\n",
       "$40 - $65         1\n",
       "$55 - $89         1\n",
       "$10               1\n",
       "$60               1\n",
       "$8-20             1\n",
       "$85               1\n",
       "$15               1\n",
       "$64               1\n",
       "27$               1\n",
       "23$               1\n",
       "$25 - $40         1\n",
       "$-$$              1\n",
       "$90               1\n",
       "33$               1\n",
       "$9-40             1\n",
       "$48 - $90         1\n",
       "$135              1\n",
       "$25               1\n",
       "Name: weekday, dtype: int64"
      ]
     },
     "execution_count": 20,
     "metadata": {},
     "output_type": "execute_result"
    }
   ],
   "source": [
    "# Overview of weekday\n",
    "input_csv[\"weekday\"].value_counts()"
   ]
  },
  {
   "cell_type": "markdown",
   "metadata": {},
   "source": [
    "## Weekend"
   ]
  },
  {
   "cell_type": "code",
   "execution_count": 21,
   "metadata": {},
   "outputs": [
    {
     "data": {
      "text/plain": [
       "$             12399\n",
       "$$             2286\n",
       "$$$             528\n",
       "&nbsp;           34\n",
       "$$$$              4\n",
       "$60 - $135        2\n",
       "$90               2\n",
       "$80               2\n",
       "38$               2\n",
       "$79               2\n",
       "$30               1\n",
       "$200              1\n",
       "$50               1\n",
       "$105              1\n",
       "$40-$50           1\n",
       "25$               1\n",
       "$8-25             1\n",
       "$9-45             1\n",
       "$75 - $90         1\n",
       "$37 - $75         1\n",
       "$29               1\n",
       "$12               1\n",
       "$50 - $75         1\n",
       "$60               1\n",
       "$48 - $99         1\n",
       "$15               1\n",
       "$150              1\n",
       "$30 - $40         1\n",
       "$120              1\n",
       "32$               1\n",
       "$25-$35           1\n",
       "$-$$              1\n",
       "$65 - $99         1\n",
       "Name: weekend, dtype: int64"
      ]
     },
     "execution_count": 21,
     "metadata": {},
     "output_type": "execute_result"
    }
   ],
   "source": [
    "# Overview of weekend\n",
    "input_csv[\"weekend\"].value_counts()"
   ]
  },
  {
   "cell_type": "markdown",
   "metadata": {},
   "source": [
    "## Tee Time Welcomed"
   ]
  },
  {
   "cell_type": "code",
   "execution_count": 22,
   "metadata": {},
   "outputs": [
    {
     "data": {
      "text/plain": [
       "Yes                               11304\n",
       "No                                 3951\n",
       "&nbsp;Yes                           132\n",
       "&nbsp;No                             20\n",
       "&nbsp;                                8\n",
       "Yes - up to 30 days in advance        1\n",
       "Yes&nbsp;                             1\n",
       "Resort Guests & Members Only          1\n",
       "Name: tee_time_welcomed, dtype: int64"
      ]
     },
     "execution_count": 22,
     "metadata": {},
     "output_type": "execute_result"
    }
   ],
   "source": [
    "# Overview of tee_time_welcomed\n",
    "input_csv[\"tee_time_welcomed\"].value_counts()"
   ]
  },
  {
   "cell_type": "markdown",
   "metadata": {},
   "source": [
    "##  Rental Cart Available"
   ]
  },
  {
   "cell_type": "code",
   "execution_count": 23,
   "metadata": {},
   "outputs": [
    {
     "data": {
      "text/plain": [
       "Yes                                         11867\n",
       "Included in fee                              2790\n",
       "No                                            738\n",
       "Rental Cart fee is $15 for 18 holes             3\n",
       "Included in Golf Fee                            2\n",
       "Yes, included in fee                            2\n",
       "Yes - $10                                       1\n",
       "Yes, rental cart fee is $15 for 18 holes        1\n",
       "Yes - included in fee                           1\n",
       "&#160;Yes                                       1\n",
       "Name: rental_cart_available, dtype: int64"
      ]
     },
     "execution_count": 23,
     "metadata": {},
     "output_type": "execute_result"
    }
   ],
   "source": [
    "# Overview of rental_cart_available\n",
    "input_csv[\"rental_cart_available\"].value_counts()"
   ]
  },
  {
   "cell_type": "markdown",
   "metadata": {},
   "source": [
    "##  Championship Par, Yards, Slope, USGA"
   ]
  },
  {
   "cell_type": "code",
   "execution_count": 24,
   "metadata": {},
   "outputs": [
    {
     "data": {
      "text/plain": [
       "10552"
      ]
     },
     "execution_count": 24,
     "metadata": {},
     "output_type": "execute_result"
    }
   ],
   "source": [
    "# Overview of championship\n",
    "championship_group = input_csv.groupby([\"championship_par\",\n",
    "                                        \"championship_yards\",\n",
    "                                        \"championship_slope\",\n",
    "                                        \"championship_usga\"])\n",
    "len(championship_group)"
   ]
  },
  {
   "cell_type": "code",
   "execution_count": 25,
   "metadata": {},
   "outputs": [
    {
     "data": {
      "text/plain": [
       "72          5903\n",
       "71          2156\n",
       "70          1078\n",
       "36           620\n",
       "35           324\n",
       "73            89\n",
       "34            66\n",
       "69            52\n",
       "27            51\n",
       "60            36\n",
       "62            31\n",
       "33            29\n",
       "68            28\n",
       "31            27\n",
       "32            25\n",
       "30            22\n",
       "61            19\n",
       "29            19\n",
       "65            18\n",
       "54            17\n",
       "66            14\n",
       "64            13\n",
       "37            13\n",
       "67            12\n",
       "63             9\n",
       "28             6\n",
       "59             5\n",
       "57             5\n",
       "58             3\n",
       "56             3\n",
       "74             2\n",
       "25             2\n",
       "&#160;71       1\n",
       "12             1\n",
       "9              1\n",
       "11             1\n",
       "38             1\n",
       "75             1\n",
       "44             1\n",
       "55             1\n",
       "Name: championship_par, dtype: int64"
      ]
     },
     "execution_count": 25,
     "metadata": {},
     "output_type": "execute_result"
    }
   ],
   "source": [
    "# Overview of championship_par\n",
    "input_csv[\"championship_par\"].value_counts()"
   ]
  },
  {
   "cell_type": "code",
   "execution_count": 26,
   "metadata": {},
   "outputs": [
    {
     "data": {
      "text/plain": [
       "6800    26\n",
       "6700    24\n",
       "6412    23\n",
       "7001    23\n",
       "7002    22\n",
       "        ..\n",
       "4838     1\n",
       "4967     1\n",
       "2864     1\n",
       "3327     1\n",
       "5350     1\n",
       "Name: championship_yards, Length: 2512, dtype: int64"
      ]
     },
     "execution_count": 26,
     "metadata": {},
     "output_type": "execute_result"
    }
   ],
   "source": [
    "# Overview of championship_yards\n",
    "input_csv[\"championship_yards\"].value_counts()"
   ]
  },
  {
   "cell_type": "code",
   "execution_count": 27,
   "metadata": {},
   "outputs": [
    {
     "data": {
      "text/plain": [
       "128    497\n",
       "126    473\n",
       "130    452\n",
       "125    444\n",
       "129    433\n",
       "      ... \n",
       "66       1\n",
       "80       1\n",
       "162      1\n",
       "0        1\n",
       "83       1\n",
       "Name: championship_slope, Length: 85, dtype: int64"
      ]
     },
     "execution_count": 27,
     "metadata": {},
     "output_type": "execute_result"
    }
   ],
   "source": [
    "# Overview of championship_slope\n",
    "input_csv[\"championship_slope\"].value_counts()"
   ]
  },
  {
   "cell_type": "code",
   "execution_count": 28,
   "metadata": {},
   "outputs": [
    {
     "data": {
      "text/plain": [
       "71.50    214\n",
       "71.90    208\n",
       "72.10    205\n",
       "72.00    198\n",
       "71.60    195\n",
       "        ... \n",
       "29.60      1\n",
       "31.10      1\n",
       "31.70      1\n",
       "36.65      1\n",
       "50.70      1\n",
       "Name: championship_usga, Length: 338, dtype: int64"
      ]
     },
     "execution_count": 28,
     "metadata": {},
     "output_type": "execute_result"
    }
   ],
   "source": [
    "# Overview of championship_usga\n",
    "input_csv[\"championship_usga\"].value_counts()"
   ]
  },
  {
   "cell_type": "markdown",
   "metadata": {},
   "source": [
    "##  Middle Par, Yards, Slope, USGA"
   ]
  },
  {
   "cell_type": "code",
   "execution_count": 29,
   "metadata": {},
   "outputs": [
    {
     "data": {
      "text/plain": [
       "14746"
      ]
     },
     "execution_count": 29,
     "metadata": {},
     "output_type": "execute_result"
    }
   ],
   "source": [
    "# Overview of middle\n",
    "middle_group = input_csv.groupby([\"middle_par\",\n",
    "                                        \"middle_yards\",\n",
    "                                        \"middle_slope\",\n",
    "                                        \"middle_usga\"])\n",
    "len(middle_group)"
   ]
  },
  {
   "cell_type": "code",
   "execution_count": 30,
   "metadata": {},
   "outputs": [
    {
     "data": {
      "text/plain": [
       "72          6277\n",
       "71          2415\n",
       "36          1838\n",
       "70          1327\n",
       "35          1144\n",
       "27           482\n",
       "34           293\n",
       "33           157\n",
       "54           136\n",
       "30           129\n",
       "31           119\n",
       "32           117\n",
       "29           115\n",
       "69           103\n",
       "73            97\n",
       "60            81\n",
       "68            62\n",
       "28            49\n",
       "62            47\n",
       "66            36\n",
       "61            35\n",
       "37            34\n",
       "65            33\n",
       "67            30\n",
       "58            26\n",
       "64            25\n",
       "63            22\n",
       "59            18\n",
       "57            16\n",
       "56            15\n",
       "55            14\n",
       "12             4\n",
       "18             3\n",
       "74             3\n",
       "53             2\n",
       "25             2\n",
       "9              2\n",
       "24             2\n",
       "38             2\n",
       "17             1\n",
       "75             1\n",
       "44             1\n",
       "23             1\n",
       "48             1\n",
       "&#160;71       1\n",
       "11             1\n",
       "21             1\n",
       "15             1\n",
       "Name: middle_par, dtype: int64"
      ]
     },
     "execution_count": 30,
     "metadata": {},
     "output_type": "execute_result"
    }
   ],
   "source": [
    "# Overview of middle_par\n",
    "input_csv[\"middle_par\"].value_counts()"
   ]
  },
  {
   "cell_type": "code",
   "execution_count": 31,
   "metadata": {},
   "outputs": [
    {
     "data": {
      "text/plain": [
       "6002    32\n",
       "6300    29\n",
       "6347    28\n",
       "6000    27\n",
       "6200    26\n",
       "        ..\n",
       "5699     1\n",
       "1405     1\n",
       "6707     1\n",
       "4918     1\n",
       "5226     1\n",
       "Name: middle_yards, Length: 3647, dtype: int64"
      ]
     },
     "execution_count": 31,
     "metadata": {},
     "output_type": "execute_result"
    }
   ],
   "source": [
    "# Overview of middle_yards\n",
    "input_csv[\"middle_yards\"].value_counts()"
   ]
  },
  {
   "cell_type": "code",
   "execution_count": 32,
   "metadata": {},
   "outputs": [
    {
     "data": {
      "text/plain": [
       "118    595\n",
       "122    557\n",
       "124    547\n",
       "119    542\n",
       "123    513\n",
       "      ... \n",
       "148      1\n",
       "36       1\n",
       "71       1\n",
       "44       1\n",
       "55       1\n",
       "Name: middle_slope, Length: 98, dtype: int64"
      ]
     },
     "execution_count": 32,
     "metadata": {},
     "output_type": "execute_result"
    }
   ],
   "source": [
    "# Overview of middle_slope\n",
    "input_csv[\"middle_slope\"].value_counts()"
   ]
  },
  {
   "cell_type": "code",
   "execution_count": 33,
   "metadata": {},
   "outputs": [
    {
     "data": {
      "text/plain": [
       "70.00    273\n",
       "69.50    272\n",
       "70.10    236\n",
       "69.20    233\n",
       "69.90    233\n",
       "        ... \n",
       "36.80      1\n",
       "38.10      1\n",
       "53.00      1\n",
       "29.47      1\n",
       "50.70      1\n",
       "Name: middle_usga, Length: 416, dtype: int64"
      ]
     },
     "execution_count": 33,
     "metadata": {},
     "output_type": "execute_result"
    }
   ],
   "source": [
    "# Overview of middle_usga\n",
    "input_csv[\"middle_usga\"].value_counts()"
   ]
  },
  {
   "cell_type": "markdown",
   "metadata": {},
   "source": [
    "##  Forward Par, Yards, Slope, USGA"
   ]
  },
  {
   "cell_type": "code",
   "execution_count": 34,
   "metadata": {},
   "outputs": [
    {
     "data": {
      "text/plain": [
       "14803"
      ]
     },
     "execution_count": 34,
     "metadata": {},
     "output_type": "execute_result"
    }
   ],
   "source": [
    "# Overview of forward\n",
    "middle_group = input_csv.groupby([\"forward_par\",\n",
    "                                        \"forward_yards\",\n",
    "                                        \"forward_slope\",\n",
    "                                        \"forward_usga\"])\n",
    "len(middle_group)"
   ]
  },
  {
   "cell_type": "code",
   "execution_count": 35,
   "metadata": {},
   "outputs": [
    {
     "data": {
      "text/plain": [
       "72              5627\n",
       "36              1693\n",
       "71              1642\n",
       "73              1195\n",
       "35               735\n",
       "70               707\n",
       "74               705\n",
       "37               475\n",
       "27               464\n",
       "34               226\n",
       "75               209\n",
       "38               185\n",
       "30               130\n",
       "33               130\n",
       "54               127\n",
       "32               125\n",
       "29               110\n",
       "31               100\n",
       "76                81\n",
       "69                73\n",
       "60                69\n",
       "62                55\n",
       "39                44\n",
       "68                42\n",
       "28                39\n",
       "61                39\n",
       "66                33\n",
       "65                33\n",
       "64                28\n",
       "58                27\n",
       "67                27\n",
       "63                21\n",
       "56                18\n",
       "57                17\n",
       "40                16\n",
       "59                14\n",
       "55                13\n",
       "78                 7\n",
       "77                 5\n",
       "12                 4\n",
       "18                 3\n",
       "42                 3\n",
       "43                 2\n",
       "53                 2\n",
       "25                 2\n",
       "41                 2\n",
       "9                  2\n",
       "79                 2\n",
       "&#160;71           1\n",
       "&amp;nbSp;36       1\n",
       "48                 1\n",
       "17                 1\n",
       "21                 1\n",
       "11                 1\n",
       "23                 1\n",
       "24                 1\n",
       "15                 1\n",
       "Name: forward_par, dtype: int64"
      ]
     },
     "execution_count": 35,
     "metadata": {},
     "output_type": "execute_result"
    }
   ],
   "source": [
    "# Overview of forward_par\n",
    "input_csv[\"forward_par\"].value_counts()"
   ]
  },
  {
   "cell_type": "code",
   "execution_count": 36,
   "metadata": {},
   "outputs": [
    {
     "data": {
      "text/plain": [
       "5420    25\n",
       "5323    22\n",
       "5197    21\n",
       "5000    21\n",
       "5300    21\n",
       "        ..\n",
       "3330     1\n",
       "1490     1\n",
       "3949     1\n",
       "531      1\n",
       "2942     1\n",
       "Name: forward_yards, Length: 3715, dtype: int64"
      ]
     },
     "execution_count": 36,
     "metadata": {},
     "output_type": "execute_result"
    }
   ],
   "source": [
    "# Overview of forward_yards\n",
    "input_csv[\"forward_yards\"].value_counts()"
   ]
  },
  {
   "cell_type": "code",
   "execution_count": 37,
   "metadata": {},
   "outputs": [
    {
     "data": {
      "text/plain": [
       "118          655\n",
       "117          607\n",
       "120          604\n",
       "115          587\n",
       "119          585\n",
       "            ... \n",
       "142            1\n",
       "61             1\n",
       "72             1\n",
       "67             1\n",
       "&#160;121      1\n",
       "Name: forward_slope, Length: 86, dtype: int64"
      ]
     },
     "execution_count": 37,
     "metadata": {},
     "output_type": "execute_result"
    }
   ],
   "source": [
    "# Overview of forward_slope\n",
    "input_csv[\"forward_slope\"].value_counts()"
   ]
  },
  {
   "cell_type": "code",
   "execution_count": 38,
   "metadata": {},
   "outputs": [
    {
     "data": {
      "text/plain": [
       "70.00    216\n",
       "70.20    199\n",
       "71.00    192\n",
       "70.10    187\n",
       "70.40    178\n",
       "        ... \n",
       "40.00      1\n",
       "35.05      1\n",
       "68.42      1\n",
       "36.35      1\n",
       "50.70      1\n",
       "Name: forward_usga, Length: 437, dtype: int64"
      ]
     },
     "execution_count": 38,
     "metadata": {},
     "output_type": "execute_result"
    }
   ],
   "source": [
    "# Overview of forward_usga\n",
    "input_csv[\"forward_usga\"].value_counts()"
   ]
  },
  {
   "cell_type": "code",
   "execution_count": null,
   "metadata": {},
   "outputs": [],
   "source": []
  },
  {
   "cell_type": "markdown",
   "metadata": {},
   "source": [
    "#  City input dataset"
   ]
  },
  {
   "cell_type": "code",
   "execution_count": 39,
   "metadata": {},
   "outputs": [
    {
     "data": {
      "text/plain": [
       "(7891, 5)"
      ]
     },
     "execution_count": 39,
     "metadata": {},
     "output_type": "execute_result"
    }
   ],
   "source": [
    "# Read the city dataset\n",
    "city_csv = pd.read_csv(\"data/city.csv\", delimiter=',', skipinitialspace=True)\n",
    "city_csv.shape"
   ]
  },
  {
   "cell_type": "code",
   "execution_count": 40,
   "metadata": {},
   "outputs": [
    {
     "data": {
      "text/html": [
       "<div>\n",
       "<style scoped>\n",
       "    .dataframe tbody tr th:only-of-type {\n",
       "        vertical-align: middle;\n",
       "    }\n",
       "\n",
       "    .dataframe tbody tr th {\n",
       "        vertical-align: top;\n",
       "    }\n",
       "\n",
       "    .dataframe thead th {\n",
       "        text-align: right;\n",
       "    }\n",
       "</style>\n",
       "<table border=\"1\" class=\"dataframe\">\n",
       "  <thead>\n",
       "    <tr style=\"text-align: right;\">\n",
       "      <th></th>\n",
       "      <th>id</th>\n",
       "      <th>state_id</th>\n",
       "      <th>title</th>\n",
       "      <th>count</th>\n",
       "      <th>slug</th>\n",
       "    </tr>\n",
       "  </thead>\n",
       "  <tbody>\n",
       "    <tr>\n",
       "      <th>0</th>\n",
       "      <td>1</td>\n",
       "      <td>1</td>\n",
       "      <td>Albertville</td>\n",
       "      <td>2</td>\n",
       "      <td>albertville</td>\n",
       "    </tr>\n",
       "    <tr>\n",
       "      <th>1</th>\n",
       "      <td>2</td>\n",
       "      <td>1</td>\n",
       "      <td>Alexander City</td>\n",
       "      <td>1</td>\n",
       "      <td>alexandercity</td>\n",
       "    </tr>\n",
       "    <tr>\n",
       "      <th>2</th>\n",
       "      <td>3</td>\n",
       "      <td>1</td>\n",
       "      <td>Alpine</td>\n",
       "      <td>1</td>\n",
       "      <td>alpine</td>\n",
       "    </tr>\n",
       "    <tr>\n",
       "      <th>3</th>\n",
       "      <td>4</td>\n",
       "      <td>1</td>\n",
       "      <td>Altoona</td>\n",
       "      <td>1</td>\n",
       "      <td>altoona</td>\n",
       "    </tr>\n",
       "    <tr>\n",
       "      <th>4</th>\n",
       "      <td>5</td>\n",
       "      <td>1</td>\n",
       "      <td>Andalusia</td>\n",
       "      <td>2</td>\n",
       "      <td>andalusia</td>\n",
       "    </tr>\n",
       "    <tr>\n",
       "      <th>...</th>\n",
       "      <td>...</td>\n",
       "      <td>...</td>\n",
       "      <td>...</td>\n",
       "      <td>...</td>\n",
       "      <td>...</td>\n",
       "    </tr>\n",
       "    <tr>\n",
       "      <th>7886</th>\n",
       "      <td>8219</td>\n",
       "      <td>53</td>\n",
       "      <td>Thermopolis</td>\n",
       "      <td>1</td>\n",
       "      <td>thermopolis</td>\n",
       "    </tr>\n",
       "    <tr>\n",
       "      <th>7887</th>\n",
       "      <td>8220</td>\n",
       "      <td>53</td>\n",
       "      <td>Torrington</td>\n",
       "      <td>1</td>\n",
       "      <td>torrington</td>\n",
       "    </tr>\n",
       "    <tr>\n",
       "      <th>7888</th>\n",
       "      <td>8221</td>\n",
       "      <td>53</td>\n",
       "      <td>Upton</td>\n",
       "      <td>1</td>\n",
       "      <td>upton</td>\n",
       "    </tr>\n",
       "    <tr>\n",
       "      <th>7889</th>\n",
       "      <td>8222</td>\n",
       "      <td>53</td>\n",
       "      <td>Wheatland</td>\n",
       "      <td>1</td>\n",
       "      <td>wheatland</td>\n",
       "    </tr>\n",
       "    <tr>\n",
       "      <th>7890</th>\n",
       "      <td>8223</td>\n",
       "      <td>53</td>\n",
       "      <td>Worland</td>\n",
       "      <td>1</td>\n",
       "      <td>worland</td>\n",
       "    </tr>\n",
       "  </tbody>\n",
       "</table>\n",
       "<p>7891 rows × 5 columns</p>\n",
       "</div>"
      ],
      "text/plain": [
       "        id  state_id           title  count           slug\n",
       "0        1         1     Albertville      2    albertville\n",
       "1        2         1  Alexander City      1  alexandercity\n",
       "2        3         1          Alpine      1         alpine\n",
       "3        4         1         Altoona      1        altoona\n",
       "4        5         1       Andalusia      2      andalusia\n",
       "...    ...       ...             ...    ...            ...\n",
       "7886  8219        53     Thermopolis      1    thermopolis\n",
       "7887  8220        53      Torrington      1     torrington\n",
       "7888  8221        53           Upton      1          upton\n",
       "7889  8222        53       Wheatland      1      wheatland\n",
       "7890  8223        53         Worland      1        worland\n",
       "\n",
       "[7891 rows x 5 columns]"
      ]
     },
     "execution_count": 40,
     "metadata": {},
     "output_type": "execute_result"
    }
   ],
   "source": [
    "# Display the city data for preview\n",
    "city_csv"
   ]
  },
  {
   "cell_type": "code",
   "execution_count": 41,
   "metadata": {},
   "outputs": [
    {
     "data": {
      "text/plain": [
       "5956"
      ]
     },
     "execution_count": 41,
     "metadata": {},
     "output_type": "execute_result"
    }
   ],
   "source": [
    "# Check the number of unique records using groupby\n",
    "csv_group = city_csv.groupby(\"title\")\n",
    "len(csv_group)"
   ]
  },
  {
   "cell_type": "code",
   "execution_count": 42,
   "metadata": {},
   "outputs": [
    {
     "data": {
      "text/plain": [
       "7891"
      ]
     },
     "execution_count": 42,
     "metadata": {},
     "output_type": "execute_result"
    }
   ],
   "source": [
    "# Check the number of unique records using groupby\n",
    "csv_group = city_csv.groupby([\"state_id\",\"slug\"])\n",
    "len(csv_group)"
   ]
  },
  {
   "cell_type": "markdown",
   "metadata": {},
   "source": [
    "#  State input dataset"
   ]
  },
  {
   "cell_type": "code",
   "execution_count": 43,
   "metadata": {},
   "outputs": [
    {
     "data": {
      "text/plain": [
       "(53, 4)"
      ]
     },
     "execution_count": 43,
     "metadata": {},
     "output_type": "execute_result"
    }
   ],
   "source": [
    "# Read the state dataset\n",
    "state_csv = pd.read_csv(\"data/state.csv\", delimiter=',', skipinitialspace=True)\n",
    "state_csv.shape"
   ]
  },
  {
   "cell_type": "code",
   "execution_count": 44,
   "metadata": {},
   "outputs": [
    {
     "data": {
      "text/html": [
       "<div>\n",
       "<style scoped>\n",
       "    .dataframe tbody tr th:only-of-type {\n",
       "        vertical-align: middle;\n",
       "    }\n",
       "\n",
       "    .dataframe tbody tr th {\n",
       "        vertical-align: top;\n",
       "    }\n",
       "\n",
       "    .dataframe thead th {\n",
       "        text-align: right;\n",
       "    }\n",
       "</style>\n",
       "<table border=\"1\" class=\"dataframe\">\n",
       "  <thead>\n",
       "    <tr style=\"text-align: right;\">\n",
       "      <th></th>\n",
       "      <th>id</th>\n",
       "      <th>title</th>\n",
       "      <th>count</th>\n",
       "      <th>slug</th>\n",
       "    </tr>\n",
       "  </thead>\n",
       "  <tbody>\n",
       "    <tr>\n",
       "      <th>0</th>\n",
       "      <td>1</td>\n",
       "      <td>Alabama</td>\n",
       "      <td>272</td>\n",
       "      <td>alabama</td>\n",
       "    </tr>\n",
       "    <tr>\n",
       "      <th>1</th>\n",
       "      <td>2</td>\n",
       "      <td>Alaska</td>\n",
       "      <td>16</td>\n",
       "      <td>alaska</td>\n",
       "    </tr>\n",
       "    <tr>\n",
       "      <th>2</th>\n",
       "      <td>3</td>\n",
       "      <td>Arizona</td>\n",
       "      <td>308</td>\n",
       "      <td>arizona</td>\n",
       "    </tr>\n",
       "    <tr>\n",
       "      <th>3</th>\n",
       "      <td>4</td>\n",
       "      <td>Arkansas</td>\n",
       "      <td>179</td>\n",
       "      <td>arkansas</td>\n",
       "    </tr>\n",
       "    <tr>\n",
       "      <th>4</th>\n",
       "      <td>5</td>\n",
       "      <td>California</td>\n",
       "      <td>976</td>\n",
       "      <td>california</td>\n",
       "    </tr>\n",
       "    <tr>\n",
       "      <th>5</th>\n",
       "      <td>6</td>\n",
       "      <td>Colorado</td>\n",
       "      <td>223</td>\n",
       "      <td>colorado</td>\n",
       "    </tr>\n",
       "    <tr>\n",
       "      <th>6</th>\n",
       "      <td>7</td>\n",
       "      <td>Connecticut</td>\n",
       "      <td>177</td>\n",
       "      <td>connecticut</td>\n",
       "    </tr>\n",
       "    <tr>\n",
       "      <th>7</th>\n",
       "      <td>8</td>\n",
       "      <td>Delaware</td>\n",
       "      <td>39</td>\n",
       "      <td>delaware</td>\n",
       "    </tr>\n",
       "    <tr>\n",
       "      <th>8</th>\n",
       "      <td>9</td>\n",
       "      <td>District of Columbia</td>\n",
       "      <td>6</td>\n",
       "      <td>districtofcolumbia</td>\n",
       "    </tr>\n",
       "    <tr>\n",
       "      <th>9</th>\n",
       "      <td>10</td>\n",
       "      <td>Florida</td>\n",
       "      <td>1094</td>\n",
       "      <td>florida</td>\n",
       "    </tr>\n",
       "    <tr>\n",
       "      <th>10</th>\n",
       "      <td>11</td>\n",
       "      <td>Georgia</td>\n",
       "      <td>432</td>\n",
       "      <td>georgia</td>\n",
       "    </tr>\n",
       "    <tr>\n",
       "      <th>11</th>\n",
       "      <td>12</td>\n",
       "      <td>Hawaii</td>\n",
       "      <td>84</td>\n",
       "      <td>hawaii</td>\n",
       "    </tr>\n",
       "    <tr>\n",
       "      <th>12</th>\n",
       "      <td>13</td>\n",
       "      <td>Idaho</td>\n",
       "      <td>92</td>\n",
       "      <td>idaho</td>\n",
       "    </tr>\n",
       "    <tr>\n",
       "      <th>13</th>\n",
       "      <td>14</td>\n",
       "      <td>Illinois</td>\n",
       "      <td>714</td>\n",
       "      <td>illinois</td>\n",
       "    </tr>\n",
       "    <tr>\n",
       "      <th>14</th>\n",
       "      <td>15</td>\n",
       "      <td>Indiana</td>\n",
       "      <td>459</td>\n",
       "      <td>indiana</td>\n",
       "    </tr>\n",
       "    <tr>\n",
       "      <th>15</th>\n",
       "      <td>16</td>\n",
       "      <td>Iowa</td>\n",
       "      <td>380</td>\n",
       "      <td>iowa</td>\n",
       "    </tr>\n",
       "    <tr>\n",
       "      <th>16</th>\n",
       "      <td>17</td>\n",
       "      <td>Kansas</td>\n",
       "      <td>222</td>\n",
       "      <td>kansas</td>\n",
       "    </tr>\n",
       "    <tr>\n",
       "      <th>17</th>\n",
       "      <td>18</td>\n",
       "      <td>Kentucky</td>\n",
       "      <td>279</td>\n",
       "      <td>kentucky</td>\n",
       "    </tr>\n",
       "    <tr>\n",
       "      <th>18</th>\n",
       "      <td>19</td>\n",
       "      <td>Louisiana</td>\n",
       "      <td>156</td>\n",
       "      <td>louisiana</td>\n",
       "    </tr>\n",
       "    <tr>\n",
       "      <th>19</th>\n",
       "      <td>20</td>\n",
       "      <td>Maine</td>\n",
       "      <td>117</td>\n",
       "      <td>maine</td>\n",
       "    </tr>\n",
       "    <tr>\n",
       "      <th>20</th>\n",
       "      <td>21</td>\n",
       "      <td>Maryland</td>\n",
       "      <td>86</td>\n",
       "      <td>maryland</td>\n",
       "    </tr>\n",
       "    <tr>\n",
       "      <th>21</th>\n",
       "      <td>22</td>\n",
       "      <td>Massachusetts</td>\n",
       "      <td>340</td>\n",
       "      <td>massachusetts</td>\n",
       "    </tr>\n",
       "    <tr>\n",
       "      <th>22</th>\n",
       "      <td>23</td>\n",
       "      <td>Michigan</td>\n",
       "      <td>933</td>\n",
       "      <td>michigan</td>\n",
       "    </tr>\n",
       "    <tr>\n",
       "      <th>23</th>\n",
       "      <td>24</td>\n",
       "      <td>Minnesota</td>\n",
       "      <td>484</td>\n",
       "      <td>minnesota</td>\n",
       "    </tr>\n",
       "    <tr>\n",
       "      <th>24</th>\n",
       "      <td>25</td>\n",
       "      <td>Mississippi</td>\n",
       "      <td>162</td>\n",
       "      <td>mississippi</td>\n",
       "    </tr>\n",
       "    <tr>\n",
       "      <th>25</th>\n",
       "      <td>26</td>\n",
       "      <td>Missouri</td>\n",
       "      <td>319</td>\n",
       "      <td>missouri</td>\n",
       "    </tr>\n",
       "    <tr>\n",
       "      <th>26</th>\n",
       "      <td>27</td>\n",
       "      <td>Montana</td>\n",
       "      <td>86</td>\n",
       "      <td>montana</td>\n",
       "    </tr>\n",
       "    <tr>\n",
       "      <th>27</th>\n",
       "      <td>28</td>\n",
       "      <td>Nebraska</td>\n",
       "      <td>180</td>\n",
       "      <td>nebraska</td>\n",
       "    </tr>\n",
       "    <tr>\n",
       "      <th>28</th>\n",
       "      <td>29</td>\n",
       "      <td>Nevada</td>\n",
       "      <td>58</td>\n",
       "      <td>nevada</td>\n",
       "    </tr>\n",
       "    <tr>\n",
       "      <th>29</th>\n",
       "      <td>30</td>\n",
       "      <td>New Hampshire</td>\n",
       "      <td>99</td>\n",
       "      <td>newhampshire</td>\n",
       "    </tr>\n",
       "    <tr>\n",
       "      <th>30</th>\n",
       "      <td>31</td>\n",
       "      <td>New Jersey</td>\n",
       "      <td>290</td>\n",
       "      <td>newjersey</td>\n",
       "    </tr>\n",
       "    <tr>\n",
       "      <th>31</th>\n",
       "      <td>32</td>\n",
       "      <td>New Mexico</td>\n",
       "      <td>50</td>\n",
       "      <td>newmexico</td>\n",
       "    </tr>\n",
       "    <tr>\n",
       "      <th>32</th>\n",
       "      <td>33</td>\n",
       "      <td>New York</td>\n",
       "      <td>596</td>\n",
       "      <td>newyork</td>\n",
       "    </tr>\n",
       "    <tr>\n",
       "      <th>33</th>\n",
       "      <td>34</td>\n",
       "      <td>North Carolina</td>\n",
       "      <td>569</td>\n",
       "      <td>northcarolina</td>\n",
       "    </tr>\n",
       "    <tr>\n",
       "      <th>34</th>\n",
       "      <td>35</td>\n",
       "      <td>North Dakota</td>\n",
       "      <td>90</td>\n",
       "      <td>northdakota</td>\n",
       "    </tr>\n",
       "    <tr>\n",
       "      <th>35</th>\n",
       "      <td>36</td>\n",
       "      <td>Ohio</td>\n",
       "      <td>772</td>\n",
       "      <td>ohio</td>\n",
       "    </tr>\n",
       "    <tr>\n",
       "      <th>36</th>\n",
       "      <td>37</td>\n",
       "      <td>Oklahoma</td>\n",
       "      <td>188</td>\n",
       "      <td>oklahoma</td>\n",
       "    </tr>\n",
       "    <tr>\n",
       "      <th>37</th>\n",
       "      <td>38</td>\n",
       "      <td>Oregon</td>\n",
       "      <td>201</td>\n",
       "      <td>oregon</td>\n",
       "    </tr>\n",
       "    <tr>\n",
       "      <th>38</th>\n",
       "      <td>39</td>\n",
       "      <td>Pennsylvania</td>\n",
       "      <td>732</td>\n",
       "      <td>pennsylvania</td>\n",
       "    </tr>\n",
       "    <tr>\n",
       "      <th>39</th>\n",
       "      <td>40</td>\n",
       "      <td>Puerto Rico</td>\n",
       "      <td>17</td>\n",
       "      <td>puertorico</td>\n",
       "    </tr>\n",
       "    <tr>\n",
       "      <th>40</th>\n",
       "      <td>41</td>\n",
       "      <td>Rhode Island</td>\n",
       "      <td>50</td>\n",
       "      <td>rhodeisland</td>\n",
       "    </tr>\n",
       "    <tr>\n",
       "      <th>41</th>\n",
       "      <td>42</td>\n",
       "      <td>South Carolina</td>\n",
       "      <td>365</td>\n",
       "      <td>southcarolina</td>\n",
       "    </tr>\n",
       "    <tr>\n",
       "      <th>42</th>\n",
       "      <td>43</td>\n",
       "      <td>South Dakota</td>\n",
       "      <td>88</td>\n",
       "      <td>southdakota</td>\n",
       "    </tr>\n",
       "    <tr>\n",
       "      <th>43</th>\n",
       "      <td>44</td>\n",
       "      <td>Tennessee</td>\n",
       "      <td>294</td>\n",
       "      <td>tennessee</td>\n",
       "    </tr>\n",
       "    <tr>\n",
       "      <th>44</th>\n",
       "      <td>45</td>\n",
       "      <td>Texas</td>\n",
       "      <td>849</td>\n",
       "      <td>texas</td>\n",
       "    </tr>\n",
       "    <tr>\n",
       "      <th>45</th>\n",
       "      <td>46</td>\n",
       "      <td>Utah</td>\n",
       "      <td>111</td>\n",
       "      <td>utah</td>\n",
       "    </tr>\n",
       "    <tr>\n",
       "      <th>46</th>\n",
       "      <td>47</td>\n",
       "      <td>Vermont</td>\n",
       "      <td>65</td>\n",
       "      <td>vermont</td>\n",
       "    </tr>\n",
       "    <tr>\n",
       "      <th>47</th>\n",
       "      <td>48</td>\n",
       "      <td>Virginia</td>\n",
       "      <td>347</td>\n",
       "      <td>virginia</td>\n",
       "    </tr>\n",
       "    <tr>\n",
       "      <th>48</th>\n",
       "      <td>49</td>\n",
       "      <td>Virgin Islands</td>\n",
       "      <td>4</td>\n",
       "      <td>virginislands</td>\n",
       "    </tr>\n",
       "    <tr>\n",
       "      <th>49</th>\n",
       "      <td>50</td>\n",
       "      <td>Washington</td>\n",
       "      <td>289</td>\n",
       "      <td>washington</td>\n",
       "    </tr>\n",
       "    <tr>\n",
       "      <th>50</th>\n",
       "      <td>51</td>\n",
       "      <td>West Virginia</td>\n",
       "      <td>110</td>\n",
       "      <td>westvirginia</td>\n",
       "    </tr>\n",
       "    <tr>\n",
       "      <th>51</th>\n",
       "      <td>52</td>\n",
       "      <td>Wisconsin</td>\n",
       "      <td>509</td>\n",
       "      <td>wisconsin</td>\n",
       "    </tr>\n",
       "    <tr>\n",
       "      <th>52</th>\n",
       "      <td>53</td>\n",
       "      <td>Wyoming</td>\n",
       "      <td>48</td>\n",
       "      <td>wyoming</td>\n",
       "    </tr>\n",
       "  </tbody>\n",
       "</table>\n",
       "</div>"
      ],
      "text/plain": [
       "    id                 title  count                slug\n",
       "0    1               Alabama    272             alabama\n",
       "1    2                Alaska     16              alaska\n",
       "2    3               Arizona    308             arizona\n",
       "3    4              Arkansas    179            arkansas\n",
       "4    5            California    976          california\n",
       "5    6              Colorado    223            colorado\n",
       "6    7           Connecticut    177         connecticut\n",
       "7    8              Delaware     39            delaware\n",
       "8    9  District of Columbia      6  districtofcolumbia\n",
       "9   10               Florida   1094             florida\n",
       "10  11               Georgia    432             georgia\n",
       "11  12                Hawaii     84              hawaii\n",
       "12  13                 Idaho     92               idaho\n",
       "13  14              Illinois    714            illinois\n",
       "14  15               Indiana    459             indiana\n",
       "15  16                  Iowa    380                iowa\n",
       "16  17                Kansas    222              kansas\n",
       "17  18              Kentucky    279            kentucky\n",
       "18  19             Louisiana    156           louisiana\n",
       "19  20                 Maine    117               maine\n",
       "20  21              Maryland     86            maryland\n",
       "21  22         Massachusetts    340       massachusetts\n",
       "22  23              Michigan    933            michigan\n",
       "23  24             Minnesota    484           minnesota\n",
       "24  25           Mississippi    162         mississippi\n",
       "25  26              Missouri    319            missouri\n",
       "26  27               Montana     86             montana\n",
       "27  28              Nebraska    180            nebraska\n",
       "28  29                Nevada     58              nevada\n",
       "29  30         New Hampshire     99        newhampshire\n",
       "30  31            New Jersey    290           newjersey\n",
       "31  32            New Mexico     50           newmexico\n",
       "32  33              New York    596             newyork\n",
       "33  34        North Carolina    569       northcarolina\n",
       "34  35          North Dakota     90         northdakota\n",
       "35  36                  Ohio    772                ohio\n",
       "36  37              Oklahoma    188            oklahoma\n",
       "37  38                Oregon    201              oregon\n",
       "38  39          Pennsylvania    732        pennsylvania\n",
       "39  40           Puerto Rico     17          puertorico\n",
       "40  41          Rhode Island     50         rhodeisland\n",
       "41  42        South Carolina    365       southcarolina\n",
       "42  43          South Dakota     88         southdakota\n",
       "43  44             Tennessee    294           tennessee\n",
       "44  45                 Texas    849               texas\n",
       "45  46                  Utah    111                utah\n",
       "46  47               Vermont     65             vermont\n",
       "47  48              Virginia    347            virginia\n",
       "48  49        Virgin Islands      4       virginislands\n",
       "49  50            Washington    289          washington\n",
       "50  51         West Virginia    110        westvirginia\n",
       "51  52             Wisconsin    509           wisconsin\n",
       "52  53               Wyoming     48             wyoming"
      ]
     },
     "execution_count": 44,
     "metadata": {},
     "output_type": "execute_result"
    }
   ],
   "source": [
    "# Display the state data for preview\n",
    "state_csv"
   ]
  },
  {
   "cell_type": "code",
   "execution_count": 45,
   "metadata": {},
   "outputs": [
    {
     "data": {
      "text/plain": [
       "53"
      ]
     },
     "execution_count": 45,
     "metadata": {},
     "output_type": "execute_result"
    }
   ],
   "source": [
    "# Check the number of unique records using groupby\n",
    "csv_group = state_csv.groupby(\"title\")\n",
    "len(csv_group)"
   ]
  },
  {
   "cell_type": "code",
   "execution_count": 46,
   "metadata": {},
   "outputs": [
    {
     "data": {
      "text/plain": [
       "53"
      ]
     },
     "execution_count": 46,
     "metadata": {},
     "output_type": "execute_result"
    }
   ],
   "source": [
    "# Check the number of unique records using groupby\n",
    "csv_group = state_csv.groupby([\"title\",\"slug\"])\n",
    "len(csv_group)"
   ]
  },
  {
   "cell_type": "code",
   "execution_count": null,
   "metadata": {},
   "outputs": [],
   "source": []
  }
 ],
 "metadata": {
  "kernelspec": {
   "display_name": "Python 3",
   "language": "python",
   "name": "python3"
  },
  "language_info": {
   "codemirror_mode": {
    "name": "ipython",
    "version": 3
   },
   "file_extension": ".py",
   "mimetype": "text/x-python",
   "name": "python",
   "nbconvert_exporter": "python",
   "pygments_lexer": "ipython3",
   "version": "3.6.10"
  }
 },
 "nbformat": 4,
 "nbformat_minor": 4
}
